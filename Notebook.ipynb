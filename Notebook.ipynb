{
  "cells": [
    {
      "cell_type": "code",
      "execution_count": 4,
      "id": "c64ef2c5",
      "metadata": {
        "id": "c64ef2c5"
      },
      "outputs": [],
      "source": [
        "import re\n",
        "from functools import partial"
      ]
    },
    {
      "cell_type": "code",
      "execution_count": 5,
      "id": "94879cf4",
      "metadata": {
        "id": "94879cf4"
      },
      "outputs": [],
      "source": [
        "import pandas as pd"
      ]
    },
    {
      "cell_type": "code",
      "execution_count": 7,
      "id": "a46a9ddf",
      "metadata": {
        "id": "a46a9ddf"
      },
      "outputs": [],
      "source": [
        "df = pd.read_csv('archive/laptops.csv', encoding='latin-1')\n",
        "\n",
        "#drop the useless columns\n",
        "\n",
        "df = df.drop(columns='Unnamed: 0')\n",
        "# fix a small inssue in data\n"
      ]
    },
    {
      "cell_type": "code",
      "execution_count": 8,
      "id": "99b6d78c",
      "metadata": {
        "colab": {
          "base_uri": "https://localhost:8080/"
        },
        "id": "99b6d78c",
        "outputId": "be874e47-87a0-432b-b345-a9aca3359c3c"
      },
      "outputs": [
        {
          "output_type": "execute_result",
          "data": {
            "text/plain": [
              "Index(['Company', 'Product', 'TypeName', 'Inches', 'ScreenResolution', 'Cpu',\n",
              "       'Ram', 'Memory', 'Gpu', 'OpSys', 'Weight', 'Price_euros'],\n",
              "      dtype='object')"
            ]
          },
          "metadata": {},
          "execution_count": 8
        }
      ],
      "source": [
        "df.columns"
      ]
    },
    {
      "cell_type": "code",
      "execution_count": 9,
      "id": "d645339f",
      "metadata": {
        "colab": {
          "base_uri": "https://localhost:8080/"
        },
        "id": "d645339f",
        "outputId": "63219295-17d5-41d7-9d8e-090386e8df84"
      },
      "outputs": [
        {
          "output_type": "execute_result",
          "data": {
            "text/plain": [
              "array(['8GB', '16GB', '4GB', '2GB', '12GB', '6GB', '32GB', '24GB', '64GB'],\n",
              "      dtype=object)"
            ]
          },
          "metadata": {},
          "execution_count": 9
        }
      ],
      "source": [
        "df['Ram'].unique()"
      ]
    },
    {
      "cell_type": "code",
      "execution_count": 9,
      "id": "1a5ff4af",
      "metadata": {
        "id": "1a5ff4af"
      },
      "outputs": [],
      "source": [
        ""
      ]
    },
    {
      "cell_type": "code",
      "execution_count": 9,
      "id": "3dc44ad0",
      "metadata": {
        "id": "3dc44ad0"
      },
      "outputs": [],
      "source": [
        ""
      ]
    },
    {
      "cell_type": "code",
      "execution_count": 10,
      "id": "982ad31a",
      "metadata": {
        "colab": {
          "base_uri": "https://localhost:8080/",
          "height": 389
        },
        "id": "982ad31a",
        "outputId": "d6a20b41-0c60-4a54-821c-a6a2f36a8173"
      },
      "outputs": [
        {
          "output_type": "error",
          "ename": "FileNotFoundError",
          "evalue": "ignored",
          "traceback": [
            "\u001b[0;31m---------------------------------------------------------------------------\u001b[0m",
            "\u001b[0;31mFileNotFoundError\u001b[0m                         Traceback (most recent call last)",
            "\u001b[0;32m<ipython-input-10-33babc275855>\u001b[0m in \u001b[0;36m<module>\u001b[0;34m()\u001b[0m\n\u001b[0;32m----> 1\u001b[0;31m \u001b[0mdf\u001b[0m \u001b[0;34m=\u001b[0m \u001b[0mpd\u001b[0m\u001b[0;34m.\u001b[0m\u001b[0mread_csv\u001b[0m\u001b[0;34m(\u001b[0m\u001b[0;34m'archive/laptops.csv'\u001b[0m\u001b[0;34m,\u001b[0m \u001b[0mencoding\u001b[0m\u001b[0;34m=\u001b[0m\u001b[0;34m'latin-1'\u001b[0m\u001b[0;34m)\u001b[0m\u001b[0;34m\u001b[0m\u001b[0;34m\u001b[0m\u001b[0m\n\u001b[0m\u001b[1;32m      2\u001b[0m \u001b[0;31m#drop the useless columns\u001b[0m\u001b[0;34m\u001b[0m\u001b[0;34m\u001b[0m\u001b[0;34m\u001b[0m\u001b[0m\n\u001b[1;32m      3\u001b[0m \u001b[0;34m\u001b[0m\u001b[0m\n\u001b[1;32m      4\u001b[0m \u001b[0mdf\u001b[0m \u001b[0;34m=\u001b[0m \u001b[0mdf\u001b[0m\u001b[0;34m.\u001b[0m\u001b[0mdrop\u001b[0m\u001b[0;34m(\u001b[0m\u001b[0mcolumns\u001b[0m\u001b[0;34m=\u001b[0m\u001b[0;34m'Unnamed: 0'\u001b[0m\u001b[0;34m)\u001b[0m\u001b[0;34m\u001b[0m\u001b[0;34m\u001b[0m\u001b[0m\n\u001b[1;32m      5\u001b[0m \u001b[0;31m# fix a small inssue in data\u001b[0m\u001b[0;34m\u001b[0m\u001b[0;34m\u001b[0m\u001b[0;34m\u001b[0m\u001b[0m\n",
            "\u001b[0;32m/usr/local/lib/python3.7/dist-packages/pandas/util/_decorators.py\u001b[0m in \u001b[0;36mwrapper\u001b[0;34m(*args, **kwargs)\u001b[0m\n\u001b[1;32m    309\u001b[0m                     \u001b[0mstacklevel\u001b[0m\u001b[0;34m=\u001b[0m\u001b[0mstacklevel\u001b[0m\u001b[0;34m,\u001b[0m\u001b[0;34m\u001b[0m\u001b[0;34m\u001b[0m\u001b[0m\n\u001b[1;32m    310\u001b[0m                 )\n\u001b[0;32m--> 311\u001b[0;31m             \u001b[0;32mreturn\u001b[0m \u001b[0mfunc\u001b[0m\u001b[0;34m(\u001b[0m\u001b[0;34m*\u001b[0m\u001b[0margs\u001b[0m\u001b[0;34m,\u001b[0m \u001b[0;34m**\u001b[0m\u001b[0mkwargs\u001b[0m\u001b[0;34m)\u001b[0m\u001b[0;34m\u001b[0m\u001b[0;34m\u001b[0m\u001b[0m\n\u001b[0m\u001b[1;32m    312\u001b[0m \u001b[0;34m\u001b[0m\u001b[0m\n\u001b[1;32m    313\u001b[0m         \u001b[0;32mreturn\u001b[0m \u001b[0mwrapper\u001b[0m\u001b[0;34m\u001b[0m\u001b[0;34m\u001b[0m\u001b[0m\n",
            "\u001b[0;32m/usr/local/lib/python3.7/dist-packages/pandas/io/parsers/readers.py\u001b[0m in \u001b[0;36mread_csv\u001b[0;34m(filepath_or_buffer, sep, delimiter, header, names, index_col, usecols, squeeze, prefix, mangle_dupe_cols, dtype, engine, converters, true_values, false_values, skipinitialspace, skiprows, skipfooter, nrows, na_values, keep_default_na, na_filter, verbose, skip_blank_lines, parse_dates, infer_datetime_format, keep_date_col, date_parser, dayfirst, cache_dates, iterator, chunksize, compression, thousands, decimal, lineterminator, quotechar, quoting, doublequote, escapechar, comment, encoding, encoding_errors, dialect, error_bad_lines, warn_bad_lines, on_bad_lines, delim_whitespace, low_memory, memory_map, float_precision, storage_options)\u001b[0m\n\u001b[1;32m    584\u001b[0m     \u001b[0mkwds\u001b[0m\u001b[0;34m.\u001b[0m\u001b[0mupdate\u001b[0m\u001b[0;34m(\u001b[0m\u001b[0mkwds_defaults\u001b[0m\u001b[0;34m)\u001b[0m\u001b[0;34m\u001b[0m\u001b[0;34m\u001b[0m\u001b[0m\n\u001b[1;32m    585\u001b[0m \u001b[0;34m\u001b[0m\u001b[0m\n\u001b[0;32m--> 586\u001b[0;31m     \u001b[0;32mreturn\u001b[0m \u001b[0m_read\u001b[0m\u001b[0;34m(\u001b[0m\u001b[0mfilepath_or_buffer\u001b[0m\u001b[0;34m,\u001b[0m \u001b[0mkwds\u001b[0m\u001b[0;34m)\u001b[0m\u001b[0;34m\u001b[0m\u001b[0;34m\u001b[0m\u001b[0m\n\u001b[0m\u001b[1;32m    587\u001b[0m \u001b[0;34m\u001b[0m\u001b[0m\n\u001b[1;32m    588\u001b[0m \u001b[0;34m\u001b[0m\u001b[0m\n",
            "\u001b[0;32m/usr/local/lib/python3.7/dist-packages/pandas/io/parsers/readers.py\u001b[0m in \u001b[0;36m_read\u001b[0;34m(filepath_or_buffer, kwds)\u001b[0m\n\u001b[1;32m    480\u001b[0m \u001b[0;34m\u001b[0m\u001b[0m\n\u001b[1;32m    481\u001b[0m     \u001b[0;31m# Create the parser.\u001b[0m\u001b[0;34m\u001b[0m\u001b[0;34m\u001b[0m\u001b[0;34m\u001b[0m\u001b[0m\n\u001b[0;32m--> 482\u001b[0;31m     \u001b[0mparser\u001b[0m \u001b[0;34m=\u001b[0m \u001b[0mTextFileReader\u001b[0m\u001b[0;34m(\u001b[0m\u001b[0mfilepath_or_buffer\u001b[0m\u001b[0;34m,\u001b[0m \u001b[0;34m**\u001b[0m\u001b[0mkwds\u001b[0m\u001b[0;34m)\u001b[0m\u001b[0;34m\u001b[0m\u001b[0;34m\u001b[0m\u001b[0m\n\u001b[0m\u001b[1;32m    483\u001b[0m \u001b[0;34m\u001b[0m\u001b[0m\n\u001b[1;32m    484\u001b[0m     \u001b[0;32mif\u001b[0m \u001b[0mchunksize\u001b[0m \u001b[0;32mor\u001b[0m \u001b[0miterator\u001b[0m\u001b[0;34m:\u001b[0m\u001b[0;34m\u001b[0m\u001b[0;34m\u001b[0m\u001b[0m\n",
            "\u001b[0;32m/usr/local/lib/python3.7/dist-packages/pandas/io/parsers/readers.py\u001b[0m in \u001b[0;36m__init__\u001b[0;34m(self, f, engine, **kwds)\u001b[0m\n\u001b[1;32m    809\u001b[0m             \u001b[0mself\u001b[0m\u001b[0;34m.\u001b[0m\u001b[0moptions\u001b[0m\u001b[0;34m[\u001b[0m\u001b[0;34m\"has_index_names\"\u001b[0m\u001b[0;34m]\u001b[0m \u001b[0;34m=\u001b[0m \u001b[0mkwds\u001b[0m\u001b[0;34m[\u001b[0m\u001b[0;34m\"has_index_names\"\u001b[0m\u001b[0;34m]\u001b[0m\u001b[0;34m\u001b[0m\u001b[0;34m\u001b[0m\u001b[0m\n\u001b[1;32m    810\u001b[0m \u001b[0;34m\u001b[0m\u001b[0m\n\u001b[0;32m--> 811\u001b[0;31m         \u001b[0mself\u001b[0m\u001b[0;34m.\u001b[0m\u001b[0m_engine\u001b[0m \u001b[0;34m=\u001b[0m \u001b[0mself\u001b[0m\u001b[0;34m.\u001b[0m\u001b[0m_make_engine\u001b[0m\u001b[0;34m(\u001b[0m\u001b[0mself\u001b[0m\u001b[0;34m.\u001b[0m\u001b[0mengine\u001b[0m\u001b[0;34m)\u001b[0m\u001b[0;34m\u001b[0m\u001b[0;34m\u001b[0m\u001b[0m\n\u001b[0m\u001b[1;32m    812\u001b[0m \u001b[0;34m\u001b[0m\u001b[0m\n\u001b[1;32m    813\u001b[0m     \u001b[0;32mdef\u001b[0m \u001b[0mclose\u001b[0m\u001b[0;34m(\u001b[0m\u001b[0mself\u001b[0m\u001b[0;34m)\u001b[0m\u001b[0;34m:\u001b[0m\u001b[0;34m\u001b[0m\u001b[0;34m\u001b[0m\u001b[0m\n",
            "\u001b[0;32m/usr/local/lib/python3.7/dist-packages/pandas/io/parsers/readers.py\u001b[0m in \u001b[0;36m_make_engine\u001b[0;34m(self, engine)\u001b[0m\n\u001b[1;32m   1038\u001b[0m             )\n\u001b[1;32m   1039\u001b[0m         \u001b[0;31m# error: Too many arguments for \"ParserBase\"\u001b[0m\u001b[0;34m\u001b[0m\u001b[0;34m\u001b[0m\u001b[0;34m\u001b[0m\u001b[0m\n\u001b[0;32m-> 1040\u001b[0;31m         \u001b[0;32mreturn\u001b[0m \u001b[0mmapping\u001b[0m\u001b[0;34m[\u001b[0m\u001b[0mengine\u001b[0m\u001b[0;34m]\u001b[0m\u001b[0;34m(\u001b[0m\u001b[0mself\u001b[0m\u001b[0;34m.\u001b[0m\u001b[0mf\u001b[0m\u001b[0;34m,\u001b[0m \u001b[0;34m**\u001b[0m\u001b[0mself\u001b[0m\u001b[0;34m.\u001b[0m\u001b[0moptions\u001b[0m\u001b[0;34m)\u001b[0m  \u001b[0;31m# type: ignore[call-arg]\u001b[0m\u001b[0;34m\u001b[0m\u001b[0;34m\u001b[0m\u001b[0m\n\u001b[0m\u001b[1;32m   1041\u001b[0m \u001b[0;34m\u001b[0m\u001b[0m\n\u001b[1;32m   1042\u001b[0m     \u001b[0;32mdef\u001b[0m \u001b[0m_failover_to_python\u001b[0m\u001b[0;34m(\u001b[0m\u001b[0mself\u001b[0m\u001b[0;34m)\u001b[0m\u001b[0;34m:\u001b[0m\u001b[0;34m\u001b[0m\u001b[0;34m\u001b[0m\u001b[0m\n",
            "\u001b[0;32m/usr/local/lib/python3.7/dist-packages/pandas/io/parsers/c_parser_wrapper.py\u001b[0m in \u001b[0;36m__init__\u001b[0;34m(self, src, **kwds)\u001b[0m\n\u001b[1;32m     49\u001b[0m \u001b[0;34m\u001b[0m\u001b[0m\n\u001b[1;32m     50\u001b[0m         \u001b[0;31m# open handles\u001b[0m\u001b[0;34m\u001b[0m\u001b[0;34m\u001b[0m\u001b[0;34m\u001b[0m\u001b[0m\n\u001b[0;32m---> 51\u001b[0;31m         \u001b[0mself\u001b[0m\u001b[0;34m.\u001b[0m\u001b[0m_open_handles\u001b[0m\u001b[0;34m(\u001b[0m\u001b[0msrc\u001b[0m\u001b[0;34m,\u001b[0m \u001b[0mkwds\u001b[0m\u001b[0;34m)\u001b[0m\u001b[0;34m\u001b[0m\u001b[0;34m\u001b[0m\u001b[0m\n\u001b[0m\u001b[1;32m     52\u001b[0m         \u001b[0;32massert\u001b[0m \u001b[0mself\u001b[0m\u001b[0;34m.\u001b[0m\u001b[0mhandles\u001b[0m \u001b[0;32mis\u001b[0m \u001b[0;32mnot\u001b[0m \u001b[0;32mNone\u001b[0m\u001b[0;34m\u001b[0m\u001b[0;34m\u001b[0m\u001b[0m\n\u001b[1;32m     53\u001b[0m \u001b[0;34m\u001b[0m\u001b[0m\n",
            "\u001b[0;32m/usr/local/lib/python3.7/dist-packages/pandas/io/parsers/base_parser.py\u001b[0m in \u001b[0;36m_open_handles\u001b[0;34m(self, src, kwds)\u001b[0m\n\u001b[1;32m    227\u001b[0m             \u001b[0mmemory_map\u001b[0m\u001b[0;34m=\u001b[0m\u001b[0mkwds\u001b[0m\u001b[0;34m.\u001b[0m\u001b[0mget\u001b[0m\u001b[0;34m(\u001b[0m\u001b[0;34m\"memory_map\"\u001b[0m\u001b[0;34m,\u001b[0m \u001b[0;32mFalse\u001b[0m\u001b[0;34m)\u001b[0m\u001b[0;34m,\u001b[0m\u001b[0;34m\u001b[0m\u001b[0;34m\u001b[0m\u001b[0m\n\u001b[1;32m    228\u001b[0m             \u001b[0mstorage_options\u001b[0m\u001b[0;34m=\u001b[0m\u001b[0mkwds\u001b[0m\u001b[0;34m.\u001b[0m\u001b[0mget\u001b[0m\u001b[0;34m(\u001b[0m\u001b[0;34m\"storage_options\"\u001b[0m\u001b[0;34m,\u001b[0m \u001b[0;32mNone\u001b[0m\u001b[0;34m)\u001b[0m\u001b[0;34m,\u001b[0m\u001b[0;34m\u001b[0m\u001b[0;34m\u001b[0m\u001b[0m\n\u001b[0;32m--> 229\u001b[0;31m             \u001b[0merrors\u001b[0m\u001b[0;34m=\u001b[0m\u001b[0mkwds\u001b[0m\u001b[0;34m.\u001b[0m\u001b[0mget\u001b[0m\u001b[0;34m(\u001b[0m\u001b[0;34m\"encoding_errors\"\u001b[0m\u001b[0;34m,\u001b[0m \u001b[0;34m\"strict\"\u001b[0m\u001b[0;34m)\u001b[0m\u001b[0;34m,\u001b[0m\u001b[0;34m\u001b[0m\u001b[0;34m\u001b[0m\u001b[0m\n\u001b[0m\u001b[1;32m    230\u001b[0m         )\n\u001b[1;32m    231\u001b[0m \u001b[0;34m\u001b[0m\u001b[0m\n",
            "\u001b[0;32m/usr/local/lib/python3.7/dist-packages/pandas/io/common.py\u001b[0m in \u001b[0;36mget_handle\u001b[0;34m(path_or_buf, mode, encoding, compression, memory_map, is_text, errors, storage_options)\u001b[0m\n\u001b[1;32m    705\u001b[0m                 \u001b[0mencoding\u001b[0m\u001b[0;34m=\u001b[0m\u001b[0mioargs\u001b[0m\u001b[0;34m.\u001b[0m\u001b[0mencoding\u001b[0m\u001b[0;34m,\u001b[0m\u001b[0;34m\u001b[0m\u001b[0;34m\u001b[0m\u001b[0m\n\u001b[1;32m    706\u001b[0m                 \u001b[0merrors\u001b[0m\u001b[0;34m=\u001b[0m\u001b[0merrors\u001b[0m\u001b[0;34m,\u001b[0m\u001b[0;34m\u001b[0m\u001b[0;34m\u001b[0m\u001b[0m\n\u001b[0;32m--> 707\u001b[0;31m                 \u001b[0mnewline\u001b[0m\u001b[0;34m=\u001b[0m\u001b[0;34m\"\"\u001b[0m\u001b[0;34m,\u001b[0m\u001b[0;34m\u001b[0m\u001b[0;34m\u001b[0m\u001b[0m\n\u001b[0m\u001b[1;32m    708\u001b[0m             )\n\u001b[1;32m    709\u001b[0m         \u001b[0;32melse\u001b[0m\u001b[0;34m:\u001b[0m\u001b[0;34m\u001b[0m\u001b[0;34m\u001b[0m\u001b[0m\n",
            "\u001b[0;31mFileNotFoundError\u001b[0m: [Errno 2] No such file or directory: 'archive/laptops.csv'"
          ]
        }
      ],
      "source": [
        "df = pd.read_csv('archive/laptops.csv', encoding='latin-1')\n",
        "#drop the useless columns\n",
        "\n",
        "df = df.drop(columns='Unnamed: 0')\n",
        "# fix a small inssue in data\n"
      ]
    },
    {
      "cell_type": "code",
      "execution_count": 11,
      "id": "7f79d520",
      "metadata": {
        "id": "7f79d520"
      },
      "outputs": [],
      "source": [
        "def extract_product(product):\n",
        "    product_list = product.split()\n",
        "    product = product_list[0]\n",
        "    if product_list[1].isalpha() or product_list[1][0].isalpha() :\n",
        "        product += ' ' + product_list[1]\n",
        "    return product\n",
        "\n",
        "def extract_pure_resolution(screen_resolution):\n",
        "    return re.search('[0-9]{3,4}x[0-9]{3,4}', screen_resolution).group()\n"
      ]
    },
    {
      "cell_type": "code",
      "execution_count": 12,
      "id": "8f88bb7b",
      "metadata": {
        "id": "8f88bb7b"
      },
      "outputs": [],
      "source": [
        "df['Convertible'] = df['TypeName'] == '2 in 1 Convertible'\n",
        "df['Product'] = df['Product'].apply(extract_product)\n",
        "df['Retina Display'] = df['ScreenResolution'].str.contains('Retina Display')\n",
        "df['Touchscreen'] = df['ScreenResolution'].str.contains(\"Touchscreen\")\n",
        "df['IPS Panel'] = df['ScreenResolution'].str.contains('IPS Panel')\n",
        "df['Quad HD+'] = df['ScreenResolution'].str.contains('Quad HD+')\n",
        "df['Ultra HD'] = df['ScreenResolution'].str.contains('Ultra HD')\n",
        "df['ScreenResolution'] = df['ScreenResolution'].apply(extract_pure_resolution)"
      ]
    },
    {
      "cell_type": "code",
      "execution_count": 12,
      "id": "d0149345",
      "metadata": {
        "id": "d0149345"
      },
      "outputs": [],
      "source": [
        ""
      ]
    },
    {
      "cell_type": "code",
      "execution_count": 13,
      "id": "816731a8",
      "metadata": {
        "id": "816731a8"
      },
      "outputs": [],
      "source": [
        "df['CPU brand'] = df['Cpu'].apply(lambda x: x.split()[0])\n",
        "df['Cpu speed'] = df['Cpu'].apply(lambda x: float(re.search('([0-9]{1,2}\\.[0-9]{1,3}GHz)|([0-9]GHz)', x)[0].replace('GHz', '')))\n",
        "df['Cpu type'] = df['Cpu'].apply(lambda x: x.split()[1])\n",
        "df['free OpSys'] = df['OpSys'].apply(lambda x: x in ('Linux', 'Android', 'No OS'))"
      ]
    },
    {
      "cell_type": "code",
      "source": [
        "df['Ram'] = df['Ram'].apply(lambda x: int(x.replace('GB', '')))\n",
        "df['Weight'] = df['Weight'].apply(lambda x: float(x.replace('kg', '')))"
      ],
      "metadata": {
        "id": "m7j5EUGN3tVu"
      },
      "id": "m7j5EUGN3tVu",
      "execution_count": 14,
      "outputs": []
    },
    {
      "cell_type": "code",
      "execution_count": 15,
      "id": "a8f4202b",
      "metadata": {
        "colab": {
          "base_uri": "https://localhost:8080/"
        },
        "id": "a8f4202b",
        "outputId": "20b6d540-f3ef-4313-fb63-bf7765f312ca"
      },
      "outputs": [
        {
          "output_type": "execute_result",
          "data": {
            "text/plain": [
              "49      Intel Pentium Quad Core N4200 1.1GHz\n",
              "166     Intel Pentium Quad Core N4200 1.1GHz\n",
              "305     Intel Pentium Quad Core N4200 1.1GHz\n",
              "319     Intel Pentium Quad Core N3710 1.6GHz\n",
              "365     Intel Pentium Quad Core N3710 1.6GHz\n",
              "443     Intel Pentium Quad Core N4200 1.1GHz\n",
              "455     Intel Pentium Quad Core N3710 1.6GHz\n",
              "465     Intel Pentium Quad Core N4200 1.1GHz\n",
              "537     Intel Pentium Quad Core N3710 1.6GHz\n",
              "568     Intel Pentium Quad Core N4200 1.1GHz\n",
              "571     Intel Pentium Quad Core N3710 1.6GHz\n",
              "609     Intel Pentium Quad Core N3710 1.6GHz\n",
              "766     Intel Pentium Quad Core N4200 1.1GHz\n",
              "769     Intel Pentium Quad Core N4200 1.1GHz\n",
              "779     Intel Pentium Dual Core N4200 1.1GHz\n",
              "804     Intel Pentium Quad Core N4200 1.1GHz\n",
              "825     Intel Pentium Dual Core 4405U 2.1GHz\n",
              "856     Intel Pentium Quad Core N4200 1.1GHz\n",
              "876     Intel Pentium Quad Core N4200 1.1GHz\n",
              "884     Intel Pentium Quad Core N3710 1.6GHz\n",
              "930     Intel Pentium Quad Core N4200 1.1GHz\n",
              "941     Intel Pentium Quad Core N3710 1.6GHz\n",
              "957     Intel Pentium Quad Core N4200 1.1GHz\n",
              "997     Intel Pentium Quad Core N4200 1.1GHz\n",
              "1088    Intel Pentium Dual Core 4405Y 1.5GHz\n",
              "1090    Intel Pentium Quad Core N3700 1.6GHz\n",
              "1098    Intel Pentium Quad Core N3710 1.6GHz\n",
              "1225    Intel Pentium Quad Core N3710 1.6GHz\n",
              "1250    Intel Pentium Quad Core N3710 1.6GHz\n",
              "1254    Intel Pentium Quad Core N3700 1.6GHz\n",
              "Name: Cpu, dtype: object"
            ]
          },
          "metadata": {},
          "execution_count": 15
        }
      ],
      "source": [
        "df[df['Cpu type']=='Pentium']['Cpu']"
      ]
    },
    {
      "cell_type": "code",
      "execution_count": 15,
      "id": "e85a19d0",
      "metadata": {
        "id": "e85a19d0"
      },
      "outputs": [],
      "source": [
        ""
      ]
    },
    {
      "cell_type": "code",
      "execution_count": 16,
      "id": "13c30a94",
      "metadata": {
        "colab": {
          "base_uri": "https://localhost:8080/",
          "height": 222
        },
        "id": "13c30a94",
        "outputId": "1ab6b194-0853-4fb0-917e-82bd6d78bec7"
      },
      "outputs": [
        {
          "output_type": "error",
          "ename": "NameError",
          "evalue": "ignored",
          "traceback": [
            "\u001b[0;31m---------------------------------------------------------------------------\u001b[0m",
            "\u001b[0;31mNameError\u001b[0m                                 Traceback (most recent call last)",
            "\u001b[0;32m<ipython-input-16-e18deb5755a0>\u001b[0m in \u001b[0;36m<module>\u001b[0;34m()\u001b[0m\n\u001b[1;32m     19\u001b[0m     \u001b[0;32mreturn\u001b[0m \u001b[0mres\u001b[0m\u001b[0;34m\u001b[0m\u001b[0;34m\u001b[0m\u001b[0m\n\u001b[1;32m     20\u001b[0m \u001b[0;34m\u001b[0m\u001b[0m\n\u001b[0;32m---> 21\u001b[0;31m \u001b[0;32mfor\u001b[0m \u001b[0mmemory_type\u001b[0m \u001b[0;32min\u001b[0m \u001b[0mtypes\u001b[0m\u001b[0;34m:\u001b[0m\u001b[0;34m\u001b[0m\u001b[0;34m\u001b[0m\u001b[0m\n\u001b[0m\u001b[1;32m     22\u001b[0m     \u001b[0mdf\u001b[0m\u001b[0;34m[\u001b[0m\u001b[0mmemory_type\u001b[0m\u001b[0;34m]\u001b[0m \u001b[0;34m=\u001b[0m \u001b[0mdf\u001b[0m\u001b[0;34m[\u001b[0m\u001b[0;34m'Memory'\u001b[0m\u001b[0;34m]\u001b[0m\u001b[0;34m.\u001b[0m\u001b[0mapply\u001b[0m\u001b[0;34m(\u001b[0m\u001b[0mpartial\u001b[0m\u001b[0;34m(\u001b[0m\u001b[0mprocess_combined_memory\u001b[0m\u001b[0;34m,\u001b[0m \u001b[0mmemory_type\u001b[0m\u001b[0;34m)\u001b[0m\u001b[0;34m)\u001b[0m\u001b[0;34m\u001b[0m\u001b[0;34m\u001b[0m\u001b[0m\n",
            "\u001b[0;31mNameError\u001b[0m: name 'types' is not defined"
          ]
        }
      ],
      "source": [
        "df['Memory'] = df['Memory'].apply(lambda x: x.replace('.0', ''))\n",
        "\n",
        "def process_memory(memory, _type):\n",
        "    gb_match = re.match('([0-9]{1,4})GB ' + _type, memory)\n",
        "    if gb_match:\n",
        "        return int(gb_match.groups()[0])\n",
        "    \n",
        "    tb_match = re.match('([0-9]{1,4})TB ' + _type, memory)\n",
        "\n",
        "    if tb_match:\n",
        "        return int(tb_match.groups()[0]) * 1000\n",
        "\n",
        "    return 0\n",
        "\n",
        "\n",
        "def process_combined_memory(_type, memory):\n",
        "    split_memory = memory.split(' +  ')\n",
        "    res = sum(process_memory(mem, _type) for mem in split_memory)\n",
        "    return res\n",
        "\n",
        "for memory_type in types:\n",
        "    df[memory_type] = df['Memory'].apply(partial(process_combined_memory, memory_type))\n"
      ]
    },
    {
      "cell_type": "code",
      "execution_count": 29,
      "id": "0262843c",
      "metadata": {
        "colab": {
          "base_uri": "https://localhost:8080/",
          "height": 1152
        },
        "id": "0262843c",
        "outputId": "a1489eac-20b7-45f1-aaf0-e096efc04775"
      },
      "outputs": [
        {
          "output_type": "execute_result",
          "data": {
            "text/plain": [
              "     Company        Product            TypeName  Inches ScreenResolution  \\\n",
              "0      Apple    MacBook Pro           Ultrabook    13.3        2560x1600   \n",
              "1      Apple    Macbook Air           Ultrabook    13.3         1440x900   \n",
              "2         HP         250 G6            Notebook    15.6        1920x1080   \n",
              "3      Apple    MacBook Pro           Ultrabook    15.4        2880x1800   \n",
              "4      Apple    MacBook Pro           Ultrabook    13.3        2560x1600   \n",
              "...      ...            ...                 ...     ...              ...   \n",
              "1298  Lenovo           Yoga  2 in 1 Convertible    14.0        1920x1080   \n",
              "1299  Lenovo           Yoga  2 in 1 Convertible    13.3        3200x1800   \n",
              "1300  Lenovo        IdeaPad            Notebook    14.0         1366x768   \n",
              "1301      HP     15-AC110nv            Notebook    15.6         1366x768   \n",
              "1302    Asus  X553SA-XX031T            Notebook    15.6         1366x768   \n",
              "\n",
              "                                       Cpu  Ram               Memory  \\\n",
              "0                     Intel Core i5 2.3GHz    8            128GB SSD   \n",
              "1                     Intel Core i5 1.8GHz    8  128GB Flash Storage   \n",
              "2               Intel Core i5 7200U 2.5GHz    8            256GB SSD   \n",
              "3                     Intel Core i7 2.7GHz   16            512GB SSD   \n",
              "4                     Intel Core i5 3.1GHz    8            256GB SSD   \n",
              "...                                    ...  ...                  ...   \n",
              "1298            Intel Core i7 6500U 2.5GHz    4            128GB SSD   \n",
              "1299            Intel Core i7 6500U 2.5GHz   16            512GB SSD   \n",
              "1300  Intel Celeron Dual Core N3050 1.6GHz    2   64GB Flash Storage   \n",
              "1301            Intel Core i7 6500U 2.5GHz    6              1TB HDD   \n",
              "1302  Intel Celeron Dual Core N3050 1.6GHz    4            500GB HDD   \n",
              "\n",
              "                               Gpu       OpSys  ...  Touchscreen  IPS Panel  \\\n",
              "0     Intel Iris Plus Graphics 640       macOS  ...        False       True   \n",
              "1           Intel HD Graphics 6000       macOS  ...        False      False   \n",
              "2            Intel HD Graphics 620       No OS  ...        False      False   \n",
              "3               AMD Radeon Pro 455       macOS  ...        False       True   \n",
              "4     Intel Iris Plus Graphics 650       macOS  ...        False       True   \n",
              "...                            ...         ...  ...          ...        ...   \n",
              "1298         Intel HD Graphics 520  Windows 10  ...         True       True   \n",
              "1299         Intel HD Graphics 520  Windows 10  ...         True       True   \n",
              "1300             Intel HD Graphics  Windows 10  ...        False      False   \n",
              "1301            AMD Radeon R5 M330  Windows 10  ...        False      False   \n",
              "1302             Intel HD Graphics  Windows 10  ...        False      False   \n",
              "\n",
              "      Quad HD+  Ultra HD  CPU brand  Cpu speed  Cpu type  free OpSys  \\\n",
              "0        False     False      Intel        2.3      Core       False   \n",
              "1        False     False      Intel        1.8      Core       False   \n",
              "2        False     False      Intel        2.5      Core        True   \n",
              "3        False     False      Intel        2.7      Core       False   \n",
              "4        False     False      Intel        3.1      Core       False   \n",
              "...        ...       ...        ...        ...       ...         ...   \n",
              "1298     False     False      Intel        2.5      Core       False   \n",
              "1299      True     False      Intel        2.5      Core       False   \n",
              "1300     False     False      Intel        1.6   Celeron       False   \n",
              "1301     False     False      Intel        2.5      Core       False   \n",
              "1302     False     False      Intel        1.6   Celeron       False   \n",
              "\n",
              "     GPU_provider  Pixels Per Inch  \n",
              "0           Intel       226.983005  \n",
              "1           Intel       127.677940  \n",
              "2           Intel       141.211998  \n",
              "3             AMD       220.534624  \n",
              "4           Intel       226.983005  \n",
              "...           ...              ...  \n",
              "1298        Intel       157.350512  \n",
              "1299        Intel       276.053530  \n",
              "1300        Intel       111.935204  \n",
              "1301          AMD       100.454670  \n",
              "1302        Intel       100.454670  \n",
              "\n",
              "[1303 rows x 24 columns]"
            ],
            "text/html": [
              "\n",
              "  <div id=\"df-802741ac-60dc-43c1-ba5c-6294f6188edf\">\n",
              "    <div class=\"colab-df-container\">\n",
              "      <div>\n",
              "<style scoped>\n",
              "    .dataframe tbody tr th:only-of-type {\n",
              "        vertical-align: middle;\n",
              "    }\n",
              "\n",
              "    .dataframe tbody tr th {\n",
              "        vertical-align: top;\n",
              "    }\n",
              "\n",
              "    .dataframe thead th {\n",
              "        text-align: right;\n",
              "    }\n",
              "</style>\n",
              "<table border=\"1\" class=\"dataframe\">\n",
              "  <thead>\n",
              "    <tr style=\"text-align: right;\">\n",
              "      <th></th>\n",
              "      <th>Company</th>\n",
              "      <th>Product</th>\n",
              "      <th>TypeName</th>\n",
              "      <th>Inches</th>\n",
              "      <th>ScreenResolution</th>\n",
              "      <th>Cpu</th>\n",
              "      <th>Ram</th>\n",
              "      <th>Memory</th>\n",
              "      <th>Gpu</th>\n",
              "      <th>OpSys</th>\n",
              "      <th>...</th>\n",
              "      <th>Touchscreen</th>\n",
              "      <th>IPS Panel</th>\n",
              "      <th>Quad HD+</th>\n",
              "      <th>Ultra HD</th>\n",
              "      <th>CPU brand</th>\n",
              "      <th>Cpu speed</th>\n",
              "      <th>Cpu type</th>\n",
              "      <th>free OpSys</th>\n",
              "      <th>GPU_provider</th>\n",
              "      <th>Pixels Per Inch</th>\n",
              "    </tr>\n",
              "  </thead>\n",
              "  <tbody>\n",
              "    <tr>\n",
              "      <th>0</th>\n",
              "      <td>Apple</td>\n",
              "      <td>MacBook Pro</td>\n",
              "      <td>Ultrabook</td>\n",
              "      <td>13.3</td>\n",
              "      <td>2560x1600</td>\n",
              "      <td>Intel Core i5 2.3GHz</td>\n",
              "      <td>8</td>\n",
              "      <td>128GB SSD</td>\n",
              "      <td>Intel Iris Plus Graphics 640</td>\n",
              "      <td>macOS</td>\n",
              "      <td>...</td>\n",
              "      <td>False</td>\n",
              "      <td>True</td>\n",
              "      <td>False</td>\n",
              "      <td>False</td>\n",
              "      <td>Intel</td>\n",
              "      <td>2.3</td>\n",
              "      <td>Core</td>\n",
              "      <td>False</td>\n",
              "      <td>Intel</td>\n",
              "      <td>226.983005</td>\n",
              "    </tr>\n",
              "    <tr>\n",
              "      <th>1</th>\n",
              "      <td>Apple</td>\n",
              "      <td>Macbook Air</td>\n",
              "      <td>Ultrabook</td>\n",
              "      <td>13.3</td>\n",
              "      <td>1440x900</td>\n",
              "      <td>Intel Core i5 1.8GHz</td>\n",
              "      <td>8</td>\n",
              "      <td>128GB Flash Storage</td>\n",
              "      <td>Intel HD Graphics 6000</td>\n",
              "      <td>macOS</td>\n",
              "      <td>...</td>\n",
              "      <td>False</td>\n",
              "      <td>False</td>\n",
              "      <td>False</td>\n",
              "      <td>False</td>\n",
              "      <td>Intel</td>\n",
              "      <td>1.8</td>\n",
              "      <td>Core</td>\n",
              "      <td>False</td>\n",
              "      <td>Intel</td>\n",
              "      <td>127.677940</td>\n",
              "    </tr>\n",
              "    <tr>\n",
              "      <th>2</th>\n",
              "      <td>HP</td>\n",
              "      <td>250 G6</td>\n",
              "      <td>Notebook</td>\n",
              "      <td>15.6</td>\n",
              "      <td>1920x1080</td>\n",
              "      <td>Intel Core i5 7200U 2.5GHz</td>\n",
              "      <td>8</td>\n",
              "      <td>256GB SSD</td>\n",
              "      <td>Intel HD Graphics 620</td>\n",
              "      <td>No OS</td>\n",
              "      <td>...</td>\n",
              "      <td>False</td>\n",
              "      <td>False</td>\n",
              "      <td>False</td>\n",
              "      <td>False</td>\n",
              "      <td>Intel</td>\n",
              "      <td>2.5</td>\n",
              "      <td>Core</td>\n",
              "      <td>True</td>\n",
              "      <td>Intel</td>\n",
              "      <td>141.211998</td>\n",
              "    </tr>\n",
              "    <tr>\n",
              "      <th>3</th>\n",
              "      <td>Apple</td>\n",
              "      <td>MacBook Pro</td>\n",
              "      <td>Ultrabook</td>\n",
              "      <td>15.4</td>\n",
              "      <td>2880x1800</td>\n",
              "      <td>Intel Core i7 2.7GHz</td>\n",
              "      <td>16</td>\n",
              "      <td>512GB SSD</td>\n",
              "      <td>AMD Radeon Pro 455</td>\n",
              "      <td>macOS</td>\n",
              "      <td>...</td>\n",
              "      <td>False</td>\n",
              "      <td>True</td>\n",
              "      <td>False</td>\n",
              "      <td>False</td>\n",
              "      <td>Intel</td>\n",
              "      <td>2.7</td>\n",
              "      <td>Core</td>\n",
              "      <td>False</td>\n",
              "      <td>AMD</td>\n",
              "      <td>220.534624</td>\n",
              "    </tr>\n",
              "    <tr>\n",
              "      <th>4</th>\n",
              "      <td>Apple</td>\n",
              "      <td>MacBook Pro</td>\n",
              "      <td>Ultrabook</td>\n",
              "      <td>13.3</td>\n",
              "      <td>2560x1600</td>\n",
              "      <td>Intel Core i5 3.1GHz</td>\n",
              "      <td>8</td>\n",
              "      <td>256GB SSD</td>\n",
              "      <td>Intel Iris Plus Graphics 650</td>\n",
              "      <td>macOS</td>\n",
              "      <td>...</td>\n",
              "      <td>False</td>\n",
              "      <td>True</td>\n",
              "      <td>False</td>\n",
              "      <td>False</td>\n",
              "      <td>Intel</td>\n",
              "      <td>3.1</td>\n",
              "      <td>Core</td>\n",
              "      <td>False</td>\n",
              "      <td>Intel</td>\n",
              "      <td>226.983005</td>\n",
              "    </tr>\n",
              "    <tr>\n",
              "      <th>...</th>\n",
              "      <td>...</td>\n",
              "      <td>...</td>\n",
              "      <td>...</td>\n",
              "      <td>...</td>\n",
              "      <td>...</td>\n",
              "      <td>...</td>\n",
              "      <td>...</td>\n",
              "      <td>...</td>\n",
              "      <td>...</td>\n",
              "      <td>...</td>\n",
              "      <td>...</td>\n",
              "      <td>...</td>\n",
              "      <td>...</td>\n",
              "      <td>...</td>\n",
              "      <td>...</td>\n",
              "      <td>...</td>\n",
              "      <td>...</td>\n",
              "      <td>...</td>\n",
              "      <td>...</td>\n",
              "      <td>...</td>\n",
              "      <td>...</td>\n",
              "    </tr>\n",
              "    <tr>\n",
              "      <th>1298</th>\n",
              "      <td>Lenovo</td>\n",
              "      <td>Yoga</td>\n",
              "      <td>2 in 1 Convertible</td>\n",
              "      <td>14.0</td>\n",
              "      <td>1920x1080</td>\n",
              "      <td>Intel Core i7 6500U 2.5GHz</td>\n",
              "      <td>4</td>\n",
              "      <td>128GB SSD</td>\n",
              "      <td>Intel HD Graphics 520</td>\n",
              "      <td>Windows 10</td>\n",
              "      <td>...</td>\n",
              "      <td>True</td>\n",
              "      <td>True</td>\n",
              "      <td>False</td>\n",
              "      <td>False</td>\n",
              "      <td>Intel</td>\n",
              "      <td>2.5</td>\n",
              "      <td>Core</td>\n",
              "      <td>False</td>\n",
              "      <td>Intel</td>\n",
              "      <td>157.350512</td>\n",
              "    </tr>\n",
              "    <tr>\n",
              "      <th>1299</th>\n",
              "      <td>Lenovo</td>\n",
              "      <td>Yoga</td>\n",
              "      <td>2 in 1 Convertible</td>\n",
              "      <td>13.3</td>\n",
              "      <td>3200x1800</td>\n",
              "      <td>Intel Core i7 6500U 2.5GHz</td>\n",
              "      <td>16</td>\n",
              "      <td>512GB SSD</td>\n",
              "      <td>Intel HD Graphics 520</td>\n",
              "      <td>Windows 10</td>\n",
              "      <td>...</td>\n",
              "      <td>True</td>\n",
              "      <td>True</td>\n",
              "      <td>True</td>\n",
              "      <td>False</td>\n",
              "      <td>Intel</td>\n",
              "      <td>2.5</td>\n",
              "      <td>Core</td>\n",
              "      <td>False</td>\n",
              "      <td>Intel</td>\n",
              "      <td>276.053530</td>\n",
              "    </tr>\n",
              "    <tr>\n",
              "      <th>1300</th>\n",
              "      <td>Lenovo</td>\n",
              "      <td>IdeaPad</td>\n",
              "      <td>Notebook</td>\n",
              "      <td>14.0</td>\n",
              "      <td>1366x768</td>\n",
              "      <td>Intel Celeron Dual Core N3050 1.6GHz</td>\n",
              "      <td>2</td>\n",
              "      <td>64GB Flash Storage</td>\n",
              "      <td>Intel HD Graphics</td>\n",
              "      <td>Windows 10</td>\n",
              "      <td>...</td>\n",
              "      <td>False</td>\n",
              "      <td>False</td>\n",
              "      <td>False</td>\n",
              "      <td>False</td>\n",
              "      <td>Intel</td>\n",
              "      <td>1.6</td>\n",
              "      <td>Celeron</td>\n",
              "      <td>False</td>\n",
              "      <td>Intel</td>\n",
              "      <td>111.935204</td>\n",
              "    </tr>\n",
              "    <tr>\n",
              "      <th>1301</th>\n",
              "      <td>HP</td>\n",
              "      <td>15-AC110nv</td>\n",
              "      <td>Notebook</td>\n",
              "      <td>15.6</td>\n",
              "      <td>1366x768</td>\n",
              "      <td>Intel Core i7 6500U 2.5GHz</td>\n",
              "      <td>6</td>\n",
              "      <td>1TB HDD</td>\n",
              "      <td>AMD Radeon R5 M330</td>\n",
              "      <td>Windows 10</td>\n",
              "      <td>...</td>\n",
              "      <td>False</td>\n",
              "      <td>False</td>\n",
              "      <td>False</td>\n",
              "      <td>False</td>\n",
              "      <td>Intel</td>\n",
              "      <td>2.5</td>\n",
              "      <td>Core</td>\n",
              "      <td>False</td>\n",
              "      <td>AMD</td>\n",
              "      <td>100.454670</td>\n",
              "    </tr>\n",
              "    <tr>\n",
              "      <th>1302</th>\n",
              "      <td>Asus</td>\n",
              "      <td>X553SA-XX031T</td>\n",
              "      <td>Notebook</td>\n",
              "      <td>15.6</td>\n",
              "      <td>1366x768</td>\n",
              "      <td>Intel Celeron Dual Core N3050 1.6GHz</td>\n",
              "      <td>4</td>\n",
              "      <td>500GB HDD</td>\n",
              "      <td>Intel HD Graphics</td>\n",
              "      <td>Windows 10</td>\n",
              "      <td>...</td>\n",
              "      <td>False</td>\n",
              "      <td>False</td>\n",
              "      <td>False</td>\n",
              "      <td>False</td>\n",
              "      <td>Intel</td>\n",
              "      <td>1.6</td>\n",
              "      <td>Celeron</td>\n",
              "      <td>False</td>\n",
              "      <td>Intel</td>\n",
              "      <td>100.454670</td>\n",
              "    </tr>\n",
              "  </tbody>\n",
              "</table>\n",
              "<p>1303 rows × 24 columns</p>\n",
              "</div>\n",
              "      <button class=\"colab-df-convert\" onclick=\"convertToInteractive('df-802741ac-60dc-43c1-ba5c-6294f6188edf')\"\n",
              "              title=\"Convert this dataframe to an interactive table.\"\n",
              "              style=\"display:none;\">\n",
              "        \n",
              "  <svg xmlns=\"http://www.w3.org/2000/svg\" height=\"24px\"viewBox=\"0 0 24 24\"\n",
              "       width=\"24px\">\n",
              "    <path d=\"M0 0h24v24H0V0z\" fill=\"none\"/>\n",
              "    <path d=\"M18.56 5.44l.94 2.06.94-2.06 2.06-.94-2.06-.94-.94-2.06-.94 2.06-2.06.94zm-11 1L8.5 8.5l.94-2.06 2.06-.94-2.06-.94L8.5 2.5l-.94 2.06-2.06.94zm10 10l.94 2.06.94-2.06 2.06-.94-2.06-.94-.94-2.06-.94 2.06-2.06.94z\"/><path d=\"M17.41 7.96l-1.37-1.37c-.4-.4-.92-.59-1.43-.59-.52 0-1.04.2-1.43.59L10.3 9.45l-7.72 7.72c-.78.78-.78 2.05 0 2.83L4 21.41c.39.39.9.59 1.41.59.51 0 1.02-.2 1.41-.59l7.78-7.78 2.81-2.81c.8-.78.8-2.07 0-2.86zM5.41 20L4 18.59l7.72-7.72 1.47 1.35L5.41 20z\"/>\n",
              "  </svg>\n",
              "      </button>\n",
              "      \n",
              "  <style>\n",
              "    .colab-df-container {\n",
              "      display:flex;\n",
              "      flex-wrap:wrap;\n",
              "      gap: 12px;\n",
              "    }\n",
              "\n",
              "    .colab-df-convert {\n",
              "      background-color: #E8F0FE;\n",
              "      border: none;\n",
              "      border-radius: 50%;\n",
              "      cursor: pointer;\n",
              "      display: none;\n",
              "      fill: #1967D2;\n",
              "      height: 32px;\n",
              "      padding: 0 0 0 0;\n",
              "      width: 32px;\n",
              "    }\n",
              "\n",
              "    .colab-df-convert:hover {\n",
              "      background-color: #E2EBFA;\n",
              "      box-shadow: 0px 1px 2px rgba(60, 64, 67, 0.3), 0px 1px 3px 1px rgba(60, 64, 67, 0.15);\n",
              "      fill: #174EA6;\n",
              "    }\n",
              "\n",
              "    [theme=dark] .colab-df-convert {\n",
              "      background-color: #3B4455;\n",
              "      fill: #D2E3FC;\n",
              "    }\n",
              "\n",
              "    [theme=dark] .colab-df-convert:hover {\n",
              "      background-color: #434B5C;\n",
              "      box-shadow: 0px 1px 3px 1px rgba(0, 0, 0, 0.15);\n",
              "      filter: drop-shadow(0px 1px 2px rgba(0, 0, 0, 0.3));\n",
              "      fill: #FFFFFF;\n",
              "    }\n",
              "  </style>\n",
              "\n",
              "      <script>\n",
              "        const buttonEl =\n",
              "          document.querySelector('#df-802741ac-60dc-43c1-ba5c-6294f6188edf button.colab-df-convert');\n",
              "        buttonEl.style.display =\n",
              "          google.colab.kernel.accessAllowed ? 'block' : 'none';\n",
              "\n",
              "        async function convertToInteractive(key) {\n",
              "          const element = document.querySelector('#df-802741ac-60dc-43c1-ba5c-6294f6188edf');\n",
              "          const dataTable =\n",
              "            await google.colab.kernel.invokeFunction('convertToInteractive',\n",
              "                                                     [key], {});\n",
              "          if (!dataTable) return;\n",
              "\n",
              "          const docLinkHtml = 'Like what you see? Visit the ' +\n",
              "            '<a target=\"_blank\" href=https://colab.research.google.com/notebooks/data_table.ipynb>data table notebook</a>'\n",
              "            + ' to learn more about interactive tables.';\n",
              "          element.innerHTML = '';\n",
              "          dataTable['output_type'] = 'display_data';\n",
              "          await google.colab.output.renderOutput(dataTable, element);\n",
              "          const docLink = document.createElement('div');\n",
              "          docLink.innerHTML = docLinkHtml;\n",
              "          element.appendChild(docLink);\n",
              "        }\n",
              "      </script>\n",
              "    </div>\n",
              "  </div>\n",
              "  "
            ]
          },
          "metadata": {},
          "execution_count": 29
        },
        {
          "output_type": "stream",
          "name": "stdout",
          "text": [
            "Warning: Total number of columns (24) exceeds max_columns (20) limiting to first (20) columns.\n"
          ]
        }
      ],
      "source": [
        "df"
      ]
    },
    {
      "cell_type": "code",
      "execution_count": 16,
      "id": "699a4a2d",
      "metadata": {
        "id": "699a4a2d"
      },
      "outputs": [],
      "source": [
        ""
      ]
    },
    {
      "cell_type": "code",
      "execution_count": 20,
      "id": "a6ac27b0",
      "metadata": {
        "id": "a6ac27b0"
      },
      "outputs": [],
      "source": [
        "df['GPU_provider'] = df['Gpu'].apply(lambda x: x.split()[0])"
      ]
    },
    {
      "cell_type": "code",
      "execution_count": 20,
      "id": "cfd9a7e0",
      "metadata": {
        "id": "cfd9a7e0"
      },
      "outputs": [],
      "source": [
        ""
      ]
    },
    {
      "cell_type": "code",
      "execution_count": 21,
      "id": "62a9e932",
      "metadata": {
        "id": "62a9e932"
      },
      "outputs": [],
      "source": [
        "import math\n",
        "\n",
        "def resolution_to_number(resolution, diagonal):\n",
        "    width, height = map(int, resolution.split('x'))\n",
        "    return math.sqrt(width**2+height**2)/diagonal"
      ]
    },
    {
      "cell_type": "code",
      "execution_count": 21,
      "id": "96121f99",
      "metadata": {
        "id": "96121f99"
      },
      "outputs": [],
      "source": [
        ""
      ]
    },
    {
      "cell_type": "code",
      "execution_count": 22,
      "id": "8934ad4a",
      "metadata": {
        "colab": {
          "base_uri": "https://localhost:8080/"
        },
        "id": "8934ad4a",
        "outputId": "b8480cbb-eb2b-402a-c176-912a42ee2d57"
      },
      "outputs": [
        {
          "output_type": "execute_result",
          "data": {
            "text/plain": [
              "Index(['Company', 'Product', 'TypeName', 'Inches', 'ScreenResolution', 'Cpu',\n",
              "       'Ram', 'Memory', 'Gpu', 'OpSys', 'Weight', 'Price_euros', 'Convertible',\n",
              "       'Retina Display', 'Touchscreen', 'IPS Panel', 'Quad HD+', 'Ultra HD',\n",
              "       'CPU brand', 'Cpu speed', 'Cpu type', 'free OpSys', 'GPU_provider'],\n",
              "      dtype='object')"
            ]
          },
          "metadata": {},
          "execution_count": 22
        }
      ],
      "source": [
        "df.columns"
      ]
    },
    {
      "cell_type": "code",
      "execution_count": 23,
      "id": "49427bfe",
      "metadata": {
        "id": "49427bfe"
      },
      "outputs": [],
      "source": [
        "df['Pixels Per Inch'] = df.apply(lambda x: resolution_to_number(x.ScreenResolution, x.Inches), axis=1)"
      ]
    },
    {
      "cell_type": "code",
      "execution_count": 23,
      "id": "fa5ce87b",
      "metadata": {
        "id": "fa5ce87b"
      },
      "outputs": [],
      "source": [
        ""
      ]
    },
    {
      "cell_type": "code",
      "source": [
        "import seaborn as sns\n",
        "\n",
        "sns.set(rc = {'figure.figsize':(12,8)})\n",
        "\n",
        "sns.barplot(x=df[\"TypeName\"], y=df[\"Price_euros\"])"
      ],
      "metadata": {
        "id": "LFLn1mZQ4dgp"
      },
      "id": "LFLn1mZQ4dgp",
      "execution_count": null,
      "outputs": []
    },
    {
      "cell_type": "code",
      "source": [
        "sns.barplot(x=df[\"Company\"], y=df[\"Price_euros\"])"
      ],
      "metadata": {
        "id": "F7n5LI1g4eHh"
      },
      "id": "F7n5LI1g4eHh",
      "execution_count": null,
      "outputs": []
    },
    {
      "cell_type": "code",
      "source": [
        "sns.barplot(x=df[\"CPU brand\"], y=df[\"Price_euros\"])"
      ],
      "metadata": {
        "id": "GZPY9opo5crm"
      },
      "id": "GZPY9opo5crm",
      "execution_count": null,
      "outputs": []
    },
    {
      "cell_type": "code",
      "source": [
        "sns.barplot(x=df[\"Cpu type\"], y=df[\"Price_euros\"])"
      ],
      "metadata": {
        "colab": {
          "base_uri": "https://localhost:8080/",
          "height": 520
        },
        "id": "5e-3Jzer6cZk",
        "outputId": "c912d61d-9be4-49f8-ea48-4c718a66ac24"
      },
      "id": "5e-3Jzer6cZk",
      "execution_count": 32,
      "outputs": [
        {
          "output_type": "execute_result",
          "data": {
            "text/plain": [
              "<matplotlib.axes._subplots.AxesSubplot at 0x7f74fdeea950>"
            ]
          },
          "metadata": {},
          "execution_count": 32
        },
        {
          "output_type": "display_data",
          "data": {
            "text/plain": [
              "<Figure size 864x576 with 1 Axes>"
            ],
            "image/png": "[encoded data removed]"
          },
          "metadata": {}
        }
      ]
    },
    {
      "cell_type": "code",
      "source": [
        "sns.barplot(x=df[\"GPU_provider\"], y=df[\"Price_euros\"])"
      ],
      "metadata": {
        "id": "C3Ad5eyx5c3T"
      },
      "id": "C3Ad5eyx5c3T",
      "execution_count": null,
      "outputs": []
    },
    {
      "cell_type": "code",
      "source": [
        "sns.barplot(x=df[\"free OpSys\"], y=df[\"Price_euros\"])"
      ],
      "metadata": {
        "id": "FrsAWuS65c6M"
      },
      "id": "FrsAWuS65c6M",
      "execution_count": null,
      "outputs": []
    },
    {
      "cell_type": "code",
      "source": [
        "sns.barplot(x=df[\"Ram\"], y=df[\"Price_euros\"], order=sorted(df[\"Ram\"].unique()))"
      ],
      "metadata": {
        "id": "gFGeAd7o5c84"
      },
      "id": "gFGeAd7o5c84",
      "execution_count": null,
      "outputs": []
    },
    {
      "cell_type": "code",
      "source": [
        "sns.barplot(x=df[\"Cpu speed\"], y=df[\"Price_euros\"], order=sorted(df[\"Cpu speed\"].unique()))\n",
        "\n",
        "# 'Cpu speed' may be ignored (?)"
      ],
      "metadata": {
        "id": "EaeaYCBF5c_v"
      },
      "id": "EaeaYCBF5c_v",
      "execution_count": null,
      "outputs": []
    },
    {
      "cell_type": "code",
      "source": [
        "sns.set(rc = {'figure.figsize':(20,10)})\n",
        "\n",
        "sns.barplot(x=df[\"ScreenResolution\"], y=df[\"Price_euros\"])"
      ],
      "metadata": {
        "colab": {
          "base_uri": "https://localhost:8080/",
          "height": 629
        },
        "id": "wMfWSaNF5dBh",
        "outputId": "ee1e3125-0ccf-4617-a90f-829ea2b8b735"
      },
      "id": "wMfWSaNF5dBh",
      "execution_count": 25,
      "outputs": [
        {
          "output_type": "execute_result",
          "data": {
            "text/plain": [
              "<matplotlib.axes._subplots.AxesSubplot at 0x7f7500120990>"
            ]
          },
          "metadata": {},
          "execution_count": 25
        },
        {
          "output_type": "display_data",
          "data": {
            "text/plain": [
              "<Figure size 1440x720 with 1 Axes>"
            ],
            "image/png": "[encoded data removed]"
          },
          "metadata": {}
        }
      ]
    },
    {
      "cell_type": "code",
      "source": [
        "sns.set(rc = {'figure.figsize':(12,8)})\n",
        "\n",
        "sns.barplot(x=df[\"Inches\"], y=df[\"Price_euros\"])\n",
        "# Price does not increase when 'Inches' increase. Hence 'Inches' may be ignored."
      ],
      "metadata": {
        "colab": {
          "base_uri": "https://localhost:8080/",
          "height": 520
        },
        "id": "Lgu4JX7M5dED",
        "outputId": "c9352700-2ef6-4471-cd14-45d3cab5d02e"
      },
      "id": "Lgu4JX7M5dED",
      "execution_count": 26,
      "outputs": [
        {
          "output_type": "execute_result",
          "data": {
            "text/plain": [
              "<matplotlib.axes._subplots.AxesSubplot at 0x7f74fe552210>"
            ]
          },
          "metadata": {},
          "execution_count": 26
        },
        {
          "output_type": "display_data",
          "data": {
            "text/plain": [
              "<Figure size 864x576 with 1 Axes>"
            ],
            "image/png": "[encoded data removed]"
          },
          "metadata": {}
        }
      ]
    },
    {
      "cell_type": "code",
      "source": [
        "sns.set(rc = {'figure.figsize':(20,10)})\n",
        "\n",
        "sns.barplot(x=df[\"Pixels Per Inch\"], y=df[\"Price_euros\"], order=sorted(df[\"Pixels Per Inch\"].unique()))\n"
      ],
      "metadata": {
        "colab": {
          "base_uri": "https://localhost:8080/",
          "height": 629
        },
        "id": "HlpUgIkd5xyi",
        "outputId": "e1104c24-269b-4d9f-8ccd-c92a9cd310a2"
      },
      "id": "HlpUgIkd5xyi",
      "execution_count": 28,
      "outputs": [
        {
          "output_type": "execute_result",
          "data": {
            "text/plain": [
              "<matplotlib.axes._subplots.AxesSubplot at 0x7f74fe4ab110>"
            ]
          },
          "metadata": {},
          "execution_count": 28
        },
        {
          "output_type": "display_data",
          "data": {
            "text/plain": [
              "<Figure size 1440x720 with 1 Axes>"
            ],
            "image/png": "[encoded data removed]"
          },
          "metadata": {}
        }
      ]
    },
    {
      "cell_type": "code",
      "source": [
        ""
      ],
      "metadata": {
        "id": "GczgpVHu53EI"
      },
      "id": "GczgpVHu53EI",
      "execution_count": null,
      "outputs": []
    },
    {
      "cell_type": "code",
      "source": [
        "from sklearn.preprocessing import OneHotEncoder, OrdinalEncoder\n",
        "from sklearn.compose import make_column_transformer\n",
        "\n",
        "boolean_ordinal_features = ['Convertible', 'Retina Display', 'Touchscreen', 'IPS Panel', 'Quad HD+', 'Ultra HD', 'free OpSys']\n",
        "non_boolean_ordinal_features = ['ScreenResolution']\n",
        "nominal_features = ['Company', 'Product', 'TypeName', 'OpSys', 'CPU brand', 'Cpu type', 'GPU_provider']\n",
        "\n",
        "# Have not used 'Cpu', 'Gpu', 'Memory' as newly created features will be used (?)\n",
        "\n",
        "column_transform = make_column_transformer(\n",
        "    (OrdinalEncoder(), boolean_ordinal_features),\n",
        "    (OrdinalEncoder(), non_boolean_ordinal_features),\n",
        "    (OneHotEncoder(), nominal_features))\n",
        "\n",
        "\n",
        "column_transform.fit_transform(df)"
      ],
      "metadata": {
        "colab": {
          "base_uri": "https://localhost:8080/"
        },
        "id": "Z_bt8O_l60Rh",
        "outputId": "ad4f28a2-697d-4bf0-97bd-189511e86eab"
      },
      "id": "Z_bt8O_l60Rh",
      "execution_count": 34,
      "outputs": [
        {
          "output_type": "execute_result",
          "data": {
            "text/plain": [
              "<1303x493 sparse matrix of type '<class 'numpy.float64'>'\n",
              "\twith 11014 stored elements in Compressed Sparse Row format>"
            ]
          },
          "metadata": {},
          "execution_count": 34
        }
      ]
    },
    {
      "cell_type": "code",
      "source": [
        ""
      ],
      "metadata": {
        "id": "WcUyEpRe61ZM"
      },
      "id": "WcUyEpRe61ZM",
      "execution_count": null,
      "outputs": []
    }
  ],
  "metadata": {
    "kernelspec": {
      "display_name": "Python 3 (ipykernel)",
      "language": "python",
      "name": "python3"
    },
    "language_info": {
      "codemirror_mode": {
        "name": "ipython",
        "version": 3
      },
      "file_extension": ".py",
      "mimetype": "text/x-python",
      "name": "python",
      "nbconvert_exporter": "python",
      "pygments_lexer": "ipython3",
      "version": "3.10.4"
    },
    "colab": {
      "name": "Notebook.ipynb",
      "provenance": [],
      "collapsed_sections": []
    }
  },
  "nbformat": 4,
  "nbformat_minor": 5
}